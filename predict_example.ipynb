{
 "cells": [
  {
   "cell_type": "markdown",
   "id": "e519f030",
   "metadata": {},
   "source": [
    "# 🔮 Predict Example — House Price Model\n",
    "\n",
    "This notebook demonstrates how to load the saved pipeline (`house_price_model.pkl`) and make predictions on new data rows."
   ]
  },
  {
   "cell_type": "markdown",
   "id": "36b084d4",
   "metadata": {},
   "source": [
    "## 1) Setup & Imports"
   ]
  },
  {
   "cell_type": "code",
   "execution_count": 1,
   "id": "fa07ca9f",
   "metadata": {},
   "outputs": [],
   "source": [
    "import joblib\n",
    "import pandas as pd\n",
    "\n",
    "# Required imports for pipeline components\n",
    "from sklearn.pipeline import Pipeline\n",
    "from sklearn.compose import ColumnTransformer, TransformedTargetRegressor\n",
    "from sklearn.preprocessing import OneHotEncoder, StandardScaler\n",
    "from sklearn.impute import SimpleImputer\n",
    "from sklearn.linear_model import LinearRegression, Ridge, Lasso\n",
    "from sklearn.ensemble import RandomForestRegressor, GradientBoostingRegressor\n",
    "try:\n",
    "    from xgboost import XGBRegressor\n",
    "except ImportError:\n",
    "    pass\n"
   ]
  },
  {
   "cell_type": "markdown",
   "id": "d13ec323",
   "metadata": {},
   "source": [
    "## 2) Load trained model"
   ]
  },
  {
   "cell_type": "code",
   "execution_count": 2,
   "id": "55e31a08",
   "metadata": {},
   "outputs": [
    {
     "name": "stdout",
     "output_type": "stream",
     "text": [
      "Loaded trained model pipeline successfully\n"
     ]
    }
   ],
   "source": [
    "model = joblib.load('models/house_price_model.pkl')\n",
    "print('Loaded trained model pipeline successfully')"
   ]
  },
  {
   "cell_type": "markdown",
   "id": "ec07dffd",
   "metadata": {},
   "source": [
    "## 3) Predict on new rows"
   ]
  },
  {
   "cell_type": "code",
   "execution_count": 3,
   "id": "0036348d",
   "metadata": {},
   "outputs": [
    {
     "data": {
      "text/html": [
       "<div>\n",
       "<style scoped>\n",
       "    .dataframe tbody tr th:only-of-type {\n",
       "        vertical-align: middle;\n",
       "    }\n",
       "\n",
       "    .dataframe tbody tr th {\n",
       "        vertical-align: top;\n",
       "    }\n",
       "\n",
       "    .dataframe thead th {\n",
       "        text-align: right;\n",
       "    }\n",
       "</style>\n",
       "<table border=\"1\" class=\"dataframe\">\n",
       "  <thead>\n",
       "    <tr style=\"text-align: right;\">\n",
       "      <th></th>\n",
       "      <th>Actual</th>\n",
       "      <th>Predicted</th>\n",
       "    </tr>\n",
       "  </thead>\n",
       "  <tbody>\n",
       "    <tr>\n",
       "      <th>0</th>\n",
       "      <td>215000</td>\n",
       "      <td>214053.484375</td>\n",
       "    </tr>\n",
       "    <tr>\n",
       "      <th>1</th>\n",
       "      <td>105000</td>\n",
       "      <td>107313.390625</td>\n",
       "    </tr>\n",
       "    <tr>\n",
       "      <th>2</th>\n",
       "      <td>172000</td>\n",
       "      <td>171014.093750</td>\n",
       "    </tr>\n",
       "    <tr>\n",
       "      <th>3</th>\n",
       "      <td>244000</td>\n",
       "      <td>244315.656250</td>\n",
       "    </tr>\n",
       "    <tr>\n",
       "      <th>4</th>\n",
       "      <td>189900</td>\n",
       "      <td>187753.750000</td>\n",
       "    </tr>\n",
       "  </tbody>\n",
       "</table>\n",
       "</div>"
      ],
      "text/plain": [
       "   Actual      Predicted\n",
       "0  215000  214053.484375\n",
       "1  105000  107313.390625\n",
       "2  172000  171014.093750\n",
       "3  244000  244315.656250\n",
       "4  189900  187753.750000"
      ]
     },
     "execution_count": 3,
     "metadata": {},
     "output_type": "execute_result"
    }
   ],
   "source": [
    "# Load dataset to sample rows\n",
    "df = pd.read_csv('AmesHousing.csv')  # or train.csv\n",
    "X = df.drop(columns=['SalePrice'])\n",
    "y = df['SalePrice']\n",
    "\n",
    "# Predict on first 5 rows\n",
    "sample = X.iloc[:5]\n",
    "preds = model.predict(sample)\n",
    "pd.DataFrame({\n",
    "    'Actual': y.iloc[:5].values,\n",
    "    'Predicted': preds\n",
    "})"
   ]
  },
  {
   "cell_type": "markdown",
   "id": "901cabb8",
   "metadata": {},
   "source": [
    "## 4) Evaluate quickly on whole dataset (optional)"
   ]
  },
  {
   "cell_type": "code",
   "execution_count": 4,
   "id": "4ff42e03",
   "metadata": {},
   "outputs": [
    {
     "name": "stdout",
     "output_type": "stream",
     "text": [
      "RMSE: 3717.58, MAE: 2704.04, R²: 0.9978\n"
     ]
    }
   ],
   "source": [
    "from sklearn.metrics import mean_squared_error, mean_absolute_error, r2_score\n",
    "import numpy as np\n",
    "\n",
    "all_preds = model.predict(X)\n",
    "rmse = np.sqrt(mean_squared_error(y, all_preds))\n",
    "mae = mean_absolute_error(y, all_preds)\n",
    "r2 = r2_score(y, all_preds)\n",
    "print(f'RMSE: {rmse:.2f}, MAE: {mae:.2f}, R²: {r2:.4f}')"
   ]
  }
 ],
 "metadata": {
  "kernelspec": {
   "display_name": "Python 3 (ipykernel)",
   "language": "python",
   "name": "python3"
  },
  "language_info": {
   "codemirror_mode": {
    "name": "ipython",
    "version": 3
   },
   "file_extension": ".py",
   "mimetype": "text/x-python",
   "name": "python",
   "nbconvert_exporter": "python",
   "pygments_lexer": "ipython3",
   "version": "3.9.7"
  }
 },
 "nbformat": 4,
 "nbformat_minor": 5
}
