{
 "cells": [
  {
   "cell_type": "markdown",
   "id": "e519f030",
   "metadata": {},
   "source": [
    "# 🔮 Predict Example — House Price Model\n",
    "\n",
    "This notebook demonstrates how to load the saved pipeline (`house_price_model.pkl`) and make predictions on new data rows."
   ]
  },
  {
   "cell_type": "markdown",
   "id": "36b084d4",
   "metadata": {},
   "source": [
    "## 1) Setup & Imports"
   ]
  },
  {
   "cell_type": "code",
   "execution_count": null,
   "id": "fa07ca9f",
   "metadata": {},
   "outputs": [],
   "source": [
    "import joblib\n",
    "import pandas as pd\n",
    "\n",
    "# Required imports for pipeline components\n",
    "from sklearn.pipeline import Pipeline\n",
    "from sklearn.compose import ColumnTransformer, TransformedTargetRegressor\n",
    "from sklearn.preprocessing import OneHotEncoder, StandardScaler\n",
    "from sklearn.impute import SimpleImputer\n",
    "from sklearn.linear_model import LinearRegression, Ridge, Lasso\n",
    "from sklearn.ensemble import RandomForestRegressor, GradientBoostingRegressor\n",
    "try:\n",
    "    from xgboost import XGBRegressor\n",
    "except ImportError:\n",
    "    pass\n"
   ]
  },
  {
   "cell_type": "markdown",
   "id": "d13ec323",
   "metadata": {},
   "source": [
    "## 2) Load trained model"
   ]
  },
  {
   "cell_type": "code",
   "execution_count": null,
   "id": "55e31a08",
   "metadata": {},
   "outputs": [],
   "source": [
    "model = joblib.load('models/house_price_model.pkl')\n",
    "print('Loaded trained model pipeline successfully')"
   ]
  },
  {
   "cell_type": "markdown",
   "id": "ec07dffd",
   "metadata": {},
   "source": [
    "## 3) Predict on new rows"
   ]
  },
  {
   "cell_type": "code",
   "execution_count": null,
   "id": "0036348d",
   "metadata": {},
   "outputs": [],
   "source": [
    "# Load dataset to sample rows\n",
    "df = pd.read_csv('AmesHousing.csv')  # or train.csv\n",
    "X = df.drop(columns=['SalePrice'])\n",
    "y = df['SalePrice']\n",
    "\n",
    "# Predict on first 5 rows\n",
    "sample = X.iloc[:5]\n",
    "preds = model.predict(sample)\n",
    "pd.DataFrame({\n",
    "    'Actual': y.iloc[:5].values,\n",
    "    'Predicted': preds\n",
    "})"
   ]
  },
  {
   "cell_type": "markdown",
   "id": "901cabb8",
   "metadata": {},
   "source": [
    "## 4) Evaluate quickly on whole dataset (optional)"
   ]
  },
  {
   "cell_type": "code",
   "execution_count": null,
   "id": "4ff42e03",
   "metadata": {},
   "outputs": [],
   "source": [
    "from sklearn.metrics import mean_squared_error, mean_absolute_error, r2_score\n",
    "import numpy as np\n",
    "\n",
    "all_preds = model.predict(X)\n",
    "rmse = np.sqrt(mean_squared_error(y, all_preds))\n",
    "mae = mean_absolute_error(y, all_preds)\n",
    "r2 = r2_score(y, all_preds)\n",
    "print(f'RMSE: {rmse:.2f}, MAE: {mae:.2f}, R²: {r2:.4f}')"
   ]
  }
 ],
 "metadata": {},
 "nbformat": 4,
 "nbformat_minor": 5
}
