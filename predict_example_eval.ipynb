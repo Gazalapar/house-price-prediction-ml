{
 "cells": [
  {
   "cell_type": "markdown",
   "id": "2f881ec4",
   "metadata": {},
   "source": [
    "# 🔮 Predict & Evaluate — House Price Model (Train vs Test)\n",
    "\n",
    "This notebook loads the **saved pipeline** (`models/house_price_model.pkl`), loads the dataset from `data/`, and evaluates performance on **train** and **test** splits. It also shows a quick **Actual vs Predicted** plot on the test set."
   ]
  },
  {
   "cell_type": "markdown",
   "id": "4607b28c",
   "metadata": {},
   "source": [
    "## 1) Setup & Imports"
   ]
  },
  {
   "cell_type": "code",
   "execution_count": 1,
   "id": "5f38de96",
   "metadata": {},
   "outputs": [],
   "source": [
    "import os\n",
    "import joblib\n",
    "import numpy as np\n",
    "import pandas as pd\n",
    "from sklearn.model_selection import train_test_split\n",
    "from sklearn.metrics import mean_squared_error, mean_absolute_error, r2_score\n",
    "import matplotlib.pyplot as plt\n"
   ]
  },
  {
   "cell_type": "markdown",
   "id": "d717fd02",
   "metadata": {},
   "source": [
    "## 2) Load trained model"
   ]
  },
  {
   "cell_type": "code",
   "execution_count": 2,
   "id": "b6ef89ec",
   "metadata": {},
   "outputs": [
    {
     "name": "stdout",
     "output_type": "stream",
     "text": [
      "✅ Loaded model: models\\house_price_model.pkl\n"
     ]
    }
   ],
   "source": [
    "model_path = os.path.join('models', 'house_price_model.pkl')\n",
    "if not os.path.exists(model_path):\n",
    "    raise FileNotFoundError('❌ Trained model not found. Run the training notebook first.')\n",
    "model = joblib.load(model_path)\n",
    "print(f'✅ Loaded model: {model_path}')"
   ]
  },
  {
   "cell_type": "markdown",
   "id": "1d05ce72",
   "metadata": {},
   "source": [
    "## 3) Load dataset (prefers `data/`)"
   ]
  },
  {
   "cell_type": "code",
   "execution_count": 3,
   "id": "352c3025",
   "metadata": {},
   "outputs": [
    {
     "name": "stdout",
     "output_type": "stream",
     "text": [
      "📄 Using dataset: data/AmesHousing.csv — rows: 2930\n"
     ]
    }
   ],
   "source": [
    "CANDIDATES = [\n",
    "    'data/AmesHousing.csv',\n",
    "    'data/train.csv',\n",
    "    'AmesHousing.csv',\n",
    "    'train.csv',\n",
    "]\n",
    "csv_path = next((p for p in CANDIDATES if os.path.exists(p)), None)\n",
    "if csv_path is None:\n",
    "    raise FileNotFoundError('❌ Dataset not found. Place AmesHousing.csv in ./data/')\n",
    "df = pd.read_csv(csv_path)\n",
    "print(f'📄 Using dataset: {csv_path} — rows: {len(df)}')\n",
    "X = df.drop(columns=['SalePrice'])\n",
    "y = df['SalePrice']"
   ]
  },
  {
   "cell_type": "markdown",
   "id": "ecb92300",
   "metadata": {},
   "source": [
    "## 4) Split data into Train/Test"
   ]
  },
  {
   "cell_type": "code",
   "execution_count": 4,
   "id": "c129cd0d",
   "metadata": {},
   "outputs": [
    {
     "data": {
      "text/plain": [
       "(2344, 586)"
      ]
     },
     "execution_count": 4,
     "metadata": {},
     "output_type": "execute_result"
    }
   ],
   "source": [
    "X_train, X_test, y_train, y_test = train_test_split(\n",
    "    X, y, test_size=0.2, random_state=42\n",
    ")\n",
    "len(X_train), len(X_test)"
   ]
  },
  {
   "cell_type": "markdown",
   "id": "14dc5670",
   "metadata": {},
   "source": [
    "## 5) Helper to compute metrics"
   ]
  },
  {
   "cell_type": "code",
   "execution_count": 5,
   "id": "eed9f208",
   "metadata": {},
   "outputs": [],
   "source": [
    "def metrics(y_true, y_pred):\n",
    "    rmse = float(np.sqrt(mean_squared_error(y_true, y_pred)))\n",
    "    mae = float(mean_absolute_error(y_true, y_pred))\n",
    "    r2 = float(r2_score(y_true, y_pred))\n",
    "    return rmse, mae, r2"
   ]
  },
  {
   "cell_type": "markdown",
   "id": "0f709ce2",
   "metadata": {},
   "source": [
    "## 6) Evaluate on Train set"
   ]
  },
  {
   "cell_type": "code",
   "execution_count": 6,
   "id": "096371a2",
   "metadata": {},
   "outputs": [
    {
     "name": "stdout",
     "output_type": "stream",
     "text": [
      "Train → RMSE: 3725.66 | MAE: 2707.40 | R²: 0.9977\n"
     ]
    }
   ],
   "source": [
    "train_preds = model.predict(X_train)\n",
    "train_rmse, train_mae, train_r2 = metrics(y_train, train_preds)\n",
    "print(f'Train → RMSE: {train_rmse:.2f} | MAE: {train_mae:.2f} | R²: {train_r2:.4f}')"
   ]
  },
  {
   "cell_type": "markdown",
   "id": "bb525398",
   "metadata": {},
   "source": [
    "## 7) Evaluate on Test set (unseen data)"
   ]
  },
  {
   "cell_type": "code",
   "execution_count": 7,
   "id": "c3723088",
   "metadata": {},
   "outputs": [
    {
     "name": "stdout",
     "output_type": "stream",
     "text": [
      "Test  → RMSE: 3685.11 | MAE: 2690.59 | R²: 0.9983\n"
     ]
    }
   ],
   "source": [
    "test_preds = model.predict(X_test)\n",
    "test_rmse, test_mae, test_r2 = metrics(y_test, test_preds)\n",
    "print(f'Test  → RMSE: {test_rmse:.2f} | MAE: {test_mae:.2f} | R²: {test_r2:.4f}')"
   ]
  },
  {
   "cell_type": "markdown",
   "id": "c54d42dc",
   "metadata": {},
   "source": [
    "## 8) Plot: Actual vs Predicted (Test set)"
   ]
  },
  {
   "cell_type": "code",
   "execution_count": 8,
   "id": "a6a030f0",
   "metadata": {},
   "outputs": [
    {
     "data": {
      "image/png": "[encoded data removed]",
      "text/plain": [
       "<Figure size 432x432 with 1 Axes>"
      ]
     },
     "metadata": {
      "needs_background": "light"
     },
     "output_type": "display_data"
    }
   ],
   "source": [
    "plt.figure(figsize=(6,6))\n",
    "plt.scatter(y_test, test_preds, alpha=0.6)\n",
    "lo = min(y_test.min(), test_preds.min())\n",
    "hi = max(y_test.max(), test_preds.max())\n",
    "plt.plot([lo, hi], [lo, hi], linestyle='--')\n",
    "plt.xlabel('Actual SalePrice')\n",
    "plt.ylabel('Predicted SalePrice')\n",
    "plt.title('Actual vs Predicted — Test set')\n",
    "plt.tight_layout()\n",
    "plt.show()"
   ]
  },
  {
   "cell_type": "markdown",
   "id": "1b5f7ad6",
   "metadata": {},
   "source": [
    "## 9) Summary table: Train vs Test"
   ]
  },
  {
   "cell_type": "code",
   "execution_count": 9,
   "id": "5f3903bb",
   "metadata": {},
   "outputs": [
    {
     "data": {
      "text/html": [
       "<div>\n",
       "<style scoped>\n",
       "    .dataframe tbody tr th:only-of-type {\n",
       "        vertical-align: middle;\n",
       "    }\n",
       "\n",
       "    .dataframe tbody tr th {\n",
       "        vertical-align: top;\n",
       "    }\n",
       "\n",
       "    .dataframe thead th {\n",
       "        text-align: right;\n",
       "    }\n",
       "</style>\n",
       "<table border=\"1\" class=\"dataframe\">\n",
       "  <thead>\n",
       "    <tr style=\"text-align: right;\">\n",
       "      <th></th>\n",
       "      <th>Split</th>\n",
       "      <th>RMSE</th>\n",
       "      <th>MAE</th>\n",
       "      <th>R2</th>\n",
       "    </tr>\n",
       "  </thead>\n",
       "  <tbody>\n",
       "    <tr>\n",
       "      <th>0</th>\n",
       "      <td>Train</td>\n",
       "      <td>3725.657123</td>\n",
       "      <td>2707.401855</td>\n",
       "      <td>0.997665</td>\n",
       "    </tr>\n",
       "    <tr>\n",
       "      <th>1</th>\n",
       "      <td>Test</td>\n",
       "      <td>3685.114109</td>\n",
       "      <td>2690.587158</td>\n",
       "      <td>0.998306</td>\n",
       "    </tr>\n",
       "  </tbody>\n",
       "</table>\n",
       "</div>"
      ],
      "text/plain": [
       "   Split         RMSE          MAE        R2\n",
       "0  Train  3725.657123  2707.401855  0.997665\n",
       "1   Test  3685.114109  2690.587158  0.998306"
      ]
     },
     "execution_count": 9,
     "metadata": {},
     "output_type": "execute_result"
    }
   ],
   "source": [
    "summary = pd.DataFrame([\n",
    "    {'Split': 'Train', 'RMSE': train_rmse, 'MAE': train_mae, 'R2': train_r2},\n",
    "    {'Split': 'Test',  'RMSE': test_rmse,  'MAE': test_mae,  'R2': test_r2},\n",
    "])\n",
    "summary"
   ]
  }
 ],
 "metadata": {
  "kernelspec": {
   "display_name": "Python 3 (ipykernel)",
   "language": "python",
   "name": "python3"
  },
  "language_info": {
   "codemirror_mode": {
    "name": "ipython",
    "version": 3
   },
   "file_extension": ".py",
   "mimetype": "text/x-python",
   "name": "python",
   "nbconvert_exporter": "python",
   "pygments_lexer": "ipython3",
   "version": "3.9.7"
  }
 },
 "nbformat": 4,
 "nbformat_minor": 5
}
